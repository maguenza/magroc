{
 "cells": [
  {
   "cell_type": "code",
   "execution_count": 156,
   "metadata": {
    "collapsed": true
   },
   "outputs": [],
   "source": [
    "import sys\n",
    "from spotipy.oauth2 import SpotifyClientCredentials\n",
    "import spotipy\n",
    "\n",
    "import pandas as pd\n",
    "import numpy as np\n",
    "from sklearn.ensemble import ExtraTreesClassifier\n",
    "from sklearn.model_selection import cross_val_score, GridSearchCV\n",
    "from sklearn import preprocessing\n",
    "from sklearn import utils\n",
    "\n",
    "\n",
    "import matplotlib.pyplot as plt\n",
    "%matplotlib inline\n",
    "import seaborn as sns\n",
    "\n",
    "pd.options.display.max_columns = None\n",
    "pd.options.display.max_rows = None\n",
    "pd.set_option('display.float_format', lambda x: '%.3f' % x)"
   ]
  },
  {
   "cell_type": "markdown",
   "metadata": {},
   "source": [
    "## Initilize Spotify"
   ]
  },
  {
   "cell_type": "code",
   "execution_count": 2,
   "metadata": {
    "collapsed": false
   },
   "outputs": [],
   "source": [
    "username = 'maguenza'\n",
    "client_id = '8f5145e2a1574aa784b4e4b2dddeebc9'\n",
    "client_secret = '2c9e490810e048aa91a4b168cc2521cb'\n",
    "\n",
    "\n",
    "client_credentials_manager = SpotifyClientCredentials(client_id=client_id, client_secret=client_secret)\n",
    "sp = spotipy.Spotify(client_credentials_manager=client_credentials_manager)"
   ]
  },
  {
   "cell_type": "markdown",
   "metadata": {},
   "source": [
    "## Grab all albums for a specific artist\n",
    "- in this example, let's use Avicii"
   ]
  },
  {
   "cell_type": "code",
   "execution_count": 3,
   "metadata": {
    "collapsed": false
   },
   "outputs": [],
   "source": [
    "artist = 'spotify:artist:1vCWHaC5f2uS3yhpwWbIA6'\n",
    "\n",
    "results = sp.artist_albums(artist, album_type='album')\n",
    "albums = results['items']\n",
    "while results['next']:\n",
    "    results = sp.next(results)\n",
    "    albums.extend(results['items'])\n",
    "\n",
    "album_id = []\n",
    "for album in albums:\n",
    "    album_id.append(album['id'])"
   ]
  },
  {
   "cell_type": "markdown",
   "metadata": {},
   "source": [
    "## For every album, grab songs"
   ]
  },
  {
   "cell_type": "code",
   "execution_count": 4,
   "metadata": {
    "collapsed": false
   },
   "outputs": [],
   "source": [
    "offset = 0\n",
    "songs = []\n",
    "for item in album_id:\n",
    "    while True:\n",
    "        content = sp.album_tracks(item,limit=50, offset=offset)\n",
    "        songs += content['items']\n",
    "        if content['next'] is not None:\n",
    "            offset += 100\n",
    "        else:\n",
    "            break"
   ]
  },
  {
   "cell_type": "markdown",
   "metadata": {},
   "source": [
    "## For all the songs, create a dictionary then transpose into a dataframe\n",
    "- rename index into names then drop index column"
   ]
  },
  {
   "cell_type": "code",
   "execution_count": 5,
   "metadata": {
    "collapsed": false
   },
   "outputs": [],
   "source": [
    "new_dict = {item['name']:item for item in songs}\n",
    "\n",
    "df_songs = pd.DataFrame(new_dict).T['id'].reset_index()\n",
    "df_songs['name'] = df_songs['index']\n",
    "del df_songs['index']"
   ]
  },
  {
   "cell_type": "code",
   "execution_count": 6,
   "metadata": {
    "collapsed": false
   },
   "outputs": [
    {
     "data": {
      "text/html": [
       "<div>\n",
       "<style scoped>\n",
       "    .dataframe tbody tr th:only-of-type {\n",
       "        vertical-align: middle;\n",
       "    }\n",
       "\n",
       "    .dataframe tbody tr th {\n",
       "        vertical-align: top;\n",
       "    }\n",
       "\n",
       "    .dataframe thead th {\n",
       "        text-align: right;\n",
       "    }\n",
       "</style>\n",
       "<table border=\"1\" class=\"dataframe\">\n",
       "  <thead>\n",
       "    <tr style=\"text-align: right;\">\n",
       "      <th></th>\n",
       "      <th>id</th>\n",
       "      <th>name</th>\n",
       "    </tr>\n",
       "  </thead>\n",
       "  <tbody>\n",
       "    <tr>\n",
       "      <th>0</th>\n",
       "      <td>5GayeBzzXIEl6fY0cP42Z1</td>\n",
       "      <td>Addicted To You</td>\n",
       "    </tr>\n",
       "    <tr>\n",
       "      <th>1</th>\n",
       "      <td>3XfGM99TOeyPsnDtgTqtkT</td>\n",
       "      <td>Addicted To You - Avicii By Avicii</td>\n",
       "    </tr>\n",
       "    <tr>\n",
       "      <th>2</th>\n",
       "      <td>1dHYpFcwP21Y1YCWmhhHrs</td>\n",
       "      <td>All You Need Is Love</td>\n",
       "    </tr>\n",
       "    <tr>\n",
       "      <th>3</th>\n",
       "      <td>4su2cUR8aGSqtNhz6EwE1a</td>\n",
       "      <td>Always On The Run</td>\n",
       "    </tr>\n",
       "    <tr>\n",
       "      <th>4</th>\n",
       "      <td>2BVVmJQZv4fOPWavI9mkIj</td>\n",
       "      <td>Broken Arrows</td>\n",
       "    </tr>\n",
       "  </tbody>\n",
       "</table>\n",
       "</div>"
      ],
      "text/plain": [
       "                       id                                name\n",
       "0  5GayeBzzXIEl6fY0cP42Z1                     Addicted To You\n",
       "1  3XfGM99TOeyPsnDtgTqtkT  Addicted To You - Avicii By Avicii\n",
       "2  1dHYpFcwP21Y1YCWmhhHrs                All You Need Is Love\n",
       "3  4su2cUR8aGSqtNhz6EwE1a                   Always On The Run\n",
       "4  2BVVmJQZv4fOPWavI9mkIj                       Broken Arrows"
      ]
     },
     "execution_count": 6,
     "metadata": {},
     "output_type": "execute_result"
    }
   ],
   "source": [
    "df_songs.head()"
   ]
  },
  {
   "cell_type": "markdown",
   "metadata": {},
   "source": [
    "## Now for all the song ids, find each song's feature and set to dataframe"
   ]
  },
  {
   "cell_type": "code",
   "execution_count": 7,
   "metadata": {
    "collapsed": false
   },
   "outputs": [],
   "source": [
    "song_id = []\n",
    "for x in df_songs['id'].values:\n",
    "    song_id.append(x)"
   ]
  },
  {
   "cell_type": "code",
   "execution_count": 8,
   "metadata": {
    "collapsed": false
   },
   "outputs": [],
   "source": [
    "index = 0\n",
    "audio_features = []\n",
    "while index < len(song_id):\n",
    "    audio_features += sp.audio_features(song_id[index:index + 50])\n",
    "    index += 50\n",
    "\n",
    "features_list = []\n",
    "for features in audio_features:\n",
    "    features_list.append([features['energy'], features['liveness'],\\\n",
    "                          features['tempo'], features['speechiness'],\\\n",
    "                          features['acousticness'], features['instrumentalness'],\\\n",
    "                          features['time_signature'], features['danceability'],\\\n",
    "                          features['key'], features['duration_ms'],\\\n",
    "                          features['loudness'], features['valence'],\\\n",
    "                          features['mode'], features['type'],\\\n",
    "                          features['uri'],\\\n",
    "                          features['id']])\n",
    "\n",
    "df = pd.DataFrame(features_list, columns=['energy', 'liveness',\\\n",
    "                                          'tempo', 'speechiness',\\\n",
    "                                          'acousticness', 'instrumentalness',\\\n",
    "                                          'time_signature', 'danceability',\\\n",
    "                                          'key', 'duration_ms', 'loudness',\\\n",
    "                                          'valence', 'mode', 'type', 'uri','id'])"
   ]
  },
  {
   "cell_type": "code",
   "execution_count": 9,
   "metadata": {
    "collapsed": false
   },
   "outputs": [
    {
     "data": {
      "text/html": [
       "<div>\n",
       "<style scoped>\n",
       "    .dataframe tbody tr th:only-of-type {\n",
       "        vertical-align: middle;\n",
       "    }\n",
       "\n",
       "    .dataframe tbody tr th {\n",
       "        vertical-align: top;\n",
       "    }\n",
       "\n",
       "    .dataframe thead th {\n",
       "        text-align: right;\n",
       "    }\n",
       "</style>\n",
       "<table border=\"1\" class=\"dataframe\">\n",
       "  <thead>\n",
       "    <tr style=\"text-align: right;\">\n",
       "      <th></th>\n",
       "      <th>energy</th>\n",
       "      <th>liveness</th>\n",
       "      <th>tempo</th>\n",
       "      <th>speechiness</th>\n",
       "      <th>acousticness</th>\n",
       "      <th>instrumentalness</th>\n",
       "      <th>time_signature</th>\n",
       "      <th>danceability</th>\n",
       "      <th>key</th>\n",
       "      <th>duration_ms</th>\n",
       "      <th>loudness</th>\n",
       "      <th>valence</th>\n",
       "      <th>mode</th>\n",
       "      <th>type</th>\n",
       "      <th>uri</th>\n",
       "      <th>id</th>\n",
       "    </tr>\n",
       "  </thead>\n",
       "  <tbody>\n",
       "    <tr>\n",
       "      <th>0</th>\n",
       "      <td>0.778</td>\n",
       "      <td>0.082</td>\n",
       "      <td>128.089</td>\n",
       "      <td>0.045</td>\n",
       "      <td>0.049</td>\n",
       "      <td>0.000</td>\n",
       "      <td>4</td>\n",
       "      <td>0.549</td>\n",
       "      <td>1</td>\n",
       "      <td>148387</td>\n",
       "      <td>-4.071</td>\n",
       "      <td>0.318</td>\n",
       "      <td>0</td>\n",
       "      <td>audio_features</td>\n",
       "      <td>spotify:track:5GayeBzzXIEl6fY0cP42Z1</td>\n",
       "      <td>5GayeBzzXIEl6fY0cP42Z1</td>\n",
       "    </tr>\n",
       "    <tr>\n",
       "      <th>1</th>\n",
       "      <td>0.470</td>\n",
       "      <td>0.042</td>\n",
       "      <td>125.993</td>\n",
       "      <td>0.085</td>\n",
       "      <td>0.125</td>\n",
       "      <td>0.013</td>\n",
       "      <td>4</td>\n",
       "      <td>0.887</td>\n",
       "      <td>10</td>\n",
       "      <td>331507</td>\n",
       "      <td>-5.423</td>\n",
       "      <td>0.441</td>\n",
       "      <td>1</td>\n",
       "      <td>audio_features</td>\n",
       "      <td>spotify:track:3XfGM99TOeyPsnDtgTqtkT</td>\n",
       "      <td>3XfGM99TOeyPsnDtgTqtkT</td>\n",
       "    </tr>\n",
       "    <tr>\n",
       "      <th>2</th>\n",
       "      <td>0.425</td>\n",
       "      <td>0.044</td>\n",
       "      <td>125.017</td>\n",
       "      <td>0.103</td>\n",
       "      <td>0.035</td>\n",
       "      <td>0.036</td>\n",
       "      <td>4</td>\n",
       "      <td>0.767</td>\n",
       "      <td>6</td>\n",
       "      <td>381120</td>\n",
       "      <td>-4.821</td>\n",
       "      <td>0.464</td>\n",
       "      <td>1</td>\n",
       "      <td>audio_features</td>\n",
       "      <td>spotify:track:1dHYpFcwP21Y1YCWmhhHrs</td>\n",
       "      <td>1dHYpFcwP21Y1YCWmhhHrs</td>\n",
       "    </tr>\n",
       "    <tr>\n",
       "      <th>3</th>\n",
       "      <td>0.853</td>\n",
       "      <td>0.096</td>\n",
       "      <td>128.027</td>\n",
       "      <td>0.039</td>\n",
       "      <td>0.016</td>\n",
       "      <td>0.020</td>\n",
       "      <td>4</td>\n",
       "      <td>0.514</td>\n",
       "      <td>3</td>\n",
       "      <td>295387</td>\n",
       "      <td>-4.733</td>\n",
       "      <td>0.261</td>\n",
       "      <td>0</td>\n",
       "      <td>audio_features</td>\n",
       "      <td>spotify:track:4su2cUR8aGSqtNhz6EwE1a</td>\n",
       "      <td>4su2cUR8aGSqtNhz6EwE1a</td>\n",
       "    </tr>\n",
       "    <tr>\n",
       "      <th>4</th>\n",
       "      <td>0.674</td>\n",
       "      <td>0.102</td>\n",
       "      <td>115.995</td>\n",
       "      <td>0.046</td>\n",
       "      <td>0.049</td>\n",
       "      <td>0.001</td>\n",
       "      <td>4</td>\n",
       "      <td>0.634</td>\n",
       "      <td>7</td>\n",
       "      <td>232760</td>\n",
       "      <td>-7.145</td>\n",
       "      <td>0.298</td>\n",
       "      <td>1</td>\n",
       "      <td>audio_features</td>\n",
       "      <td>spotify:track:2BVVmJQZv4fOPWavI9mkIj</td>\n",
       "      <td>2BVVmJQZv4fOPWavI9mkIj</td>\n",
       "    </tr>\n",
       "  </tbody>\n",
       "</table>\n",
       "</div>"
      ],
      "text/plain": [
       "   energy  liveness   tempo  speechiness  acousticness  instrumentalness  \\\n",
       "0   0.778     0.082 128.089        0.045         0.049             0.000   \n",
       "1   0.470     0.042 125.993        0.085         0.125             0.013   \n",
       "2   0.425     0.044 125.017        0.103         0.035             0.036   \n",
       "3   0.853     0.096 128.027        0.039         0.016             0.020   \n",
       "4   0.674     0.102 115.995        0.046         0.049             0.001   \n",
       "\n",
       "   time_signature  danceability  key  duration_ms  loudness  valence  mode  \\\n",
       "0               4         0.549    1       148387    -4.071    0.318     0   \n",
       "1               4         0.887   10       331507    -5.423    0.441     1   \n",
       "2               4         0.767    6       381120    -4.821    0.464     1   \n",
       "3               4         0.514    3       295387    -4.733    0.261     0   \n",
       "4               4         0.634    7       232760    -7.145    0.298     1   \n",
       "\n",
       "             type                                   uri  \\\n",
       "0  audio_features  spotify:track:5GayeBzzXIEl6fY0cP42Z1   \n",
       "1  audio_features  spotify:track:3XfGM99TOeyPsnDtgTqtkT   \n",
       "2  audio_features  spotify:track:1dHYpFcwP21Y1YCWmhhHrs   \n",
       "3  audio_features  spotify:track:4su2cUR8aGSqtNhz6EwE1a   \n",
       "4  audio_features  spotify:track:2BVVmJQZv4fOPWavI9mkIj   \n",
       "\n",
       "                       id  \n",
       "0  5GayeBzzXIEl6fY0cP42Z1  \n",
       "1  3XfGM99TOeyPsnDtgTqtkT  \n",
       "2  1dHYpFcwP21Y1YCWmhhHrs  \n",
       "3  4su2cUR8aGSqtNhz6EwE1a  \n",
       "4  2BVVmJQZv4fOPWavI9mkIj  "
      ]
     },
     "execution_count": 9,
     "metadata": {},
     "output_type": "execute_result"
    }
   ],
   "source": [
    "df.head()"
   ]
  },
  {
   "cell_type": "markdown",
   "metadata": {},
   "source": [
    "## Now mere song names and audio features on id to bring in song name"
   ]
  },
  {
   "cell_type": "code",
   "execution_count": 10,
   "metadata": {
    "collapsed": false
   },
   "outputs": [],
   "source": [
    "df_final = df.merge(df_songs, left_on = 'id', right_on = 'id', how = 'inner')"
   ]
  },
  {
   "cell_type": "code",
   "execution_count": 11,
   "metadata": {
    "collapsed": false
   },
   "outputs": [
    {
     "data": {
      "text/html": [
       "<div>\n",
       "<style scoped>\n",
       "    .dataframe tbody tr th:only-of-type {\n",
       "        vertical-align: middle;\n",
       "    }\n",
       "\n",
       "    .dataframe tbody tr th {\n",
       "        vertical-align: top;\n",
       "    }\n",
       "\n",
       "    .dataframe thead th {\n",
       "        text-align: right;\n",
       "    }\n",
       "</style>\n",
       "<table border=\"1\" class=\"dataframe\">\n",
       "  <thead>\n",
       "    <tr style=\"text-align: right;\">\n",
       "      <th></th>\n",
       "      <th>energy</th>\n",
       "      <th>liveness</th>\n",
       "      <th>tempo</th>\n",
       "      <th>speechiness</th>\n",
       "      <th>acousticness</th>\n",
       "      <th>instrumentalness</th>\n",
       "      <th>time_signature</th>\n",
       "      <th>danceability</th>\n",
       "      <th>key</th>\n",
       "      <th>duration_ms</th>\n",
       "      <th>loudness</th>\n",
       "      <th>valence</th>\n",
       "      <th>mode</th>\n",
       "      <th>type</th>\n",
       "      <th>uri</th>\n",
       "      <th>id</th>\n",
       "      <th>name</th>\n",
       "    </tr>\n",
       "  </thead>\n",
       "  <tbody>\n",
       "    <tr>\n",
       "      <th>0</th>\n",
       "      <td>0.778</td>\n",
       "      <td>0.082</td>\n",
       "      <td>128.089</td>\n",
       "      <td>0.045</td>\n",
       "      <td>0.049</td>\n",
       "      <td>0.000</td>\n",
       "      <td>4</td>\n",
       "      <td>0.549</td>\n",
       "      <td>1</td>\n",
       "      <td>148387</td>\n",
       "      <td>-4.071</td>\n",
       "      <td>0.318</td>\n",
       "      <td>0</td>\n",
       "      <td>audio_features</td>\n",
       "      <td>spotify:track:5GayeBzzXIEl6fY0cP42Z1</td>\n",
       "      <td>5GayeBzzXIEl6fY0cP42Z1</td>\n",
       "      <td>Addicted To You</td>\n",
       "    </tr>\n",
       "    <tr>\n",
       "      <th>1</th>\n",
       "      <td>0.470</td>\n",
       "      <td>0.042</td>\n",
       "      <td>125.993</td>\n",
       "      <td>0.085</td>\n",
       "      <td>0.125</td>\n",
       "      <td>0.013</td>\n",
       "      <td>4</td>\n",
       "      <td>0.887</td>\n",
       "      <td>10</td>\n",
       "      <td>331507</td>\n",
       "      <td>-5.423</td>\n",
       "      <td>0.441</td>\n",
       "      <td>1</td>\n",
       "      <td>audio_features</td>\n",
       "      <td>spotify:track:3XfGM99TOeyPsnDtgTqtkT</td>\n",
       "      <td>3XfGM99TOeyPsnDtgTqtkT</td>\n",
       "      <td>Addicted To You - Avicii By Avicii</td>\n",
       "    </tr>\n",
       "    <tr>\n",
       "      <th>2</th>\n",
       "      <td>0.425</td>\n",
       "      <td>0.044</td>\n",
       "      <td>125.017</td>\n",
       "      <td>0.103</td>\n",
       "      <td>0.035</td>\n",
       "      <td>0.036</td>\n",
       "      <td>4</td>\n",
       "      <td>0.767</td>\n",
       "      <td>6</td>\n",
       "      <td>381120</td>\n",
       "      <td>-4.821</td>\n",
       "      <td>0.464</td>\n",
       "      <td>1</td>\n",
       "      <td>audio_features</td>\n",
       "      <td>spotify:track:1dHYpFcwP21Y1YCWmhhHrs</td>\n",
       "      <td>1dHYpFcwP21Y1YCWmhhHrs</td>\n",
       "      <td>All You Need Is Love</td>\n",
       "    </tr>\n",
       "    <tr>\n",
       "      <th>3</th>\n",
       "      <td>0.853</td>\n",
       "      <td>0.096</td>\n",
       "      <td>128.027</td>\n",
       "      <td>0.039</td>\n",
       "      <td>0.016</td>\n",
       "      <td>0.020</td>\n",
       "      <td>4</td>\n",
       "      <td>0.514</td>\n",
       "      <td>3</td>\n",
       "      <td>295387</td>\n",
       "      <td>-4.733</td>\n",
       "      <td>0.261</td>\n",
       "      <td>0</td>\n",
       "      <td>audio_features</td>\n",
       "      <td>spotify:track:4su2cUR8aGSqtNhz6EwE1a</td>\n",
       "      <td>4su2cUR8aGSqtNhz6EwE1a</td>\n",
       "      <td>Always On The Run</td>\n",
       "    </tr>\n",
       "    <tr>\n",
       "      <th>4</th>\n",
       "      <td>0.674</td>\n",
       "      <td>0.102</td>\n",
       "      <td>115.995</td>\n",
       "      <td>0.046</td>\n",
       "      <td>0.049</td>\n",
       "      <td>0.001</td>\n",
       "      <td>4</td>\n",
       "      <td>0.634</td>\n",
       "      <td>7</td>\n",
       "      <td>232760</td>\n",
       "      <td>-7.145</td>\n",
       "      <td>0.298</td>\n",
       "      <td>1</td>\n",
       "      <td>audio_features</td>\n",
       "      <td>spotify:track:2BVVmJQZv4fOPWavI9mkIj</td>\n",
       "      <td>2BVVmJQZv4fOPWavI9mkIj</td>\n",
       "      <td>Broken Arrows</td>\n",
       "    </tr>\n",
       "  </tbody>\n",
       "</table>\n",
       "</div>"
      ],
      "text/plain": [
       "   energy  liveness   tempo  speechiness  acousticness  instrumentalness  \\\n",
       "0   0.778     0.082 128.089        0.045         0.049             0.000   \n",
       "1   0.470     0.042 125.993        0.085         0.125             0.013   \n",
       "2   0.425     0.044 125.017        0.103         0.035             0.036   \n",
       "3   0.853     0.096 128.027        0.039         0.016             0.020   \n",
       "4   0.674     0.102 115.995        0.046         0.049             0.001   \n",
       "\n",
       "   time_signature  danceability  key  duration_ms  loudness  valence  mode  \\\n",
       "0               4         0.549    1       148387    -4.071    0.318     0   \n",
       "1               4         0.887   10       331507    -5.423    0.441     1   \n",
       "2               4         0.767    6       381120    -4.821    0.464     1   \n",
       "3               4         0.514    3       295387    -4.733    0.261     0   \n",
       "4               4         0.634    7       232760    -7.145    0.298     1   \n",
       "\n",
       "             type                                   uri  \\\n",
       "0  audio_features  spotify:track:5GayeBzzXIEl6fY0cP42Z1   \n",
       "1  audio_features  spotify:track:3XfGM99TOeyPsnDtgTqtkT   \n",
       "2  audio_features  spotify:track:1dHYpFcwP21Y1YCWmhhHrs   \n",
       "3  audio_features  spotify:track:4su2cUR8aGSqtNhz6EwE1a   \n",
       "4  audio_features  spotify:track:2BVVmJQZv4fOPWavI9mkIj   \n",
       "\n",
       "                       id                                name  \n",
       "0  5GayeBzzXIEl6fY0cP42Z1                     Addicted To You  \n",
       "1  3XfGM99TOeyPsnDtgTqtkT  Addicted To You - Avicii By Avicii  \n",
       "2  1dHYpFcwP21Y1YCWmhhHrs                All You Need Is Love  \n",
       "3  4su2cUR8aGSqtNhz6EwE1a                   Always On The Run  \n",
       "4  2BVVmJQZv4fOPWavI9mkIj                       Broken Arrows  "
      ]
     },
     "execution_count": 11,
     "metadata": {},
     "output_type": "execute_result"
    }
   ],
   "source": [
    "df_final.head()"
   ]
  },
  {
   "cell_type": "markdown",
   "metadata": {},
   "source": [
    "## Now, let's find more songs to build the dancing_algorithm"
   ]
  },
  {
   "cell_type": "code",
   "execution_count": 57,
   "metadata": {
    "collapsed": true
   },
   "outputs": [],
   "source": [
    "related_artists = sp.artist_related_artists(artist)"
   ]
  },
  {
   "cell_type": "code",
   "execution_count": 59,
   "metadata": {
    "collapsed": false
   },
   "outputs": [],
   "source": [
    "ra_ids = []\n",
    "for k,v in related_artists.items():\n",
    "    ra_ids.append(v)"
   ]
  },
  {
   "cell_type": "code",
   "execution_count": 82,
   "metadata": {
    "collapsed": false
   },
   "outputs": [],
   "source": [
    "array = np.array(ra_ids).reshape(20)\n",
    "df0 = pd.DataFrame(array, columns = ['name'])\n",
    "other_id = [d.get('id') for d in df0.name]"
   ]
  },
  {
   "cell_type": "code",
   "execution_count": 107,
   "metadata": {
    "collapsed": false
   },
   "outputs": [
    {
     "data": {
      "text/plain": [
       "['4AVFqumd2ogHFlRbKIjp1t',\n",
       " '4D75GcNG95ebPtNvoNVXhz',\n",
       " '5fahUm8t5c0GIdeTq0ZaG8',\n",
       " '2XnBwblw31dfGnspMIwgWz',\n",
       " '1h6Cn3P4NGzXbaXidqURXs',\n",
       " '3TVjdmhfFoYJLgBEkkZTBm',\n",
       " '5ChF3i92IPZHduM7jN3dpg',\n",
       " '6i1GVNJCyyssRwXmnaeEFH',\n",
       " '6lB8vOoI4DRrrVxXwuV19c',\n",
       " '2o5jDhtHVPhrJdv3cEQ99Z',\n",
       " '4sTQVOfp9vEMCemLw50sbu',\n",
       " '2u8P7EawurNYoIzRtr5Knk',\n",
       " '68dW5BU6sdVNf099EylxEt',\n",
       " '4cSYNpczcvTUpnPMFDLsIc',\n",
       " '0XNvr6bnNywV946ZKaJtr0',\n",
       " '3tLYpanVDomWAZqF82NPds',\n",
       " '4ehtJnVumNf6xzSCDk8aLB',\n",
       " '6BrvowZBreEkXzJQMpL174',\n",
       " '0daugAjUgbJSqdlyYNwIbT',\n",
       " '73jBynjsVtofjRpdpRAJGk']"
      ]
     },
     "execution_count": 107,
     "metadata": {},
     "output_type": "execute_result"
    }
   ],
   "source": [
    "other_id"
   ]
  },
  {
   "cell_type": "code",
   "execution_count": 129,
   "metadata": {
    "collapsed": false
   },
   "outputs": [],
   "source": [
    "other_results = []\n",
    "other_albums = []\n",
    "for item in other_id:\n",
    "    results1 = sp.artist_albums(item, album_type='album')\n",
    "    albums1 = results1['items']\n",
    "    #other_albums.append(albums1)\n",
    "    while results1['next']:\n",
    "        results1 = sp.next(results1)\n",
    "        other_results.append(results1)\n",
    "        other_albums.extend(results1['items'])\n",
    "        "
   ]
  },
  {
   "cell_type": "code",
   "execution_count": 135,
   "metadata": {
    "collapsed": false
   },
   "outputs": [],
   "source": [
    "other_album_id = []\n",
    "for album in other_albums:\n",
    "    other_album_id.append(album['id'])"
   ]
  },
  {
   "cell_type": "code",
   "execution_count": 138,
   "metadata": {
    "collapsed": true
   },
   "outputs": [],
   "source": [
    "offset = 0\n",
    "other_songs = []\n",
    "for item in other_album_id:\n",
    "    while True:\n",
    "        content1 = sp.album_tracks(item,limit=50, offset=offset)\n",
    "        other_songs += content1['items']\n",
    "        if content1['next'] is not None:\n",
    "            offset += 100\n",
    "        else:\n",
    "            break"
   ]
  },
  {
   "cell_type": "code",
   "execution_count": 141,
   "metadata": {
    "collapsed": false
   },
   "outputs": [],
   "source": [
    "new_dict1 = {item['name']:item for item in other_songs}\n",
    "\n",
    "df1_songs = pd.DataFrame(new_dict1).T['id'].reset_index()\n",
    "df1_songs['name'] = df1_songs['index']\n",
    "del df1_songs['index']"
   ]
  },
  {
   "cell_type": "code",
   "execution_count": 143,
   "metadata": {
    "collapsed": false
   },
   "outputs": [
    {
     "data": {
      "text/plain": [
       "1053"
      ]
     },
     "execution_count": 143,
     "metadata": {},
     "output_type": "execute_result"
    }
   ],
   "source": [
    "len(df1_songs)"
   ]
  },
  {
   "cell_type": "code",
   "execution_count": 221,
   "metadata": {
    "collapsed": false
   },
   "outputs": [],
   "source": [
    "other_song_id = []\n",
    "for x in df1_songs['id'].values:\n",
    "    other_song_id.append(x)\n",
    "    \n",
    "index = 0\n",
    "audio_features1 = []\n",
    "while index < len(other_song_id):\n",
    "    audio_features1 += sp.audio_features(other_song_id[index:index + 50])\n",
    "    index += 50\n",
    "\n",
    "features_list1 = []\n",
    "for features in audio_features1:\n",
    "    features_list1.append([features['tempo'], features['liveness'],\\\n",
    "                          features['energy'], features['speechiness'],\\\n",
    "                          features['acousticness'], features['instrumentalness'],\\\n",
    "                          features['danceability'],\\\n",
    "                          features['loudness'], features['valence'],\\\n",
    "                          features['duration_ms'],features['uri'], features['id']])\n",
    "\n",
    "df_dance = pd.DataFrame(features_list1, columns=['tempo', 'liveness',\\\n",
    "                                          'energy', 'speechiness',\\\n",
    "                                          'acousticness', 'instrumentalness',\\\n",
    "                                          'danceability',\\\n",
    "                                          'loudness', 'valence',\\\n",
    "                                          'duration_ms', 'uri','id'])"
   ]
  },
  {
   "cell_type": "code",
   "execution_count": 222,
   "metadata": {
    "collapsed": false
   },
   "outputs": [],
   "source": [
    "for col in df_dance.iloc[:2,1:-3]:\n",
    "    df_dance[col] = df_dance[col] * 100"
   ]
  },
  {
   "cell_type": "code",
   "execution_count": 223,
   "metadata": {
    "collapsed": false
   },
   "outputs": [
    {
     "data": {
      "text/plain": [
       "tempo               float64\n",
       "liveness            float64\n",
       "energy              float64\n",
       "speechiness         float64\n",
       "acousticness        float64\n",
       "instrumentalness    float64\n",
       "danceability        float64\n",
       "loudness            float64\n",
       "valence             float64\n",
       "duration_ms           int64\n",
       "uri                  object\n",
       "id                   object\n",
       "dtype: object"
      ]
     },
     "execution_count": 223,
     "metadata": {},
     "output_type": "execute_result"
    }
   ],
   "source": [
    "df_dance.dtypes"
   ]
  },
  {
   "cell_type": "code",
   "execution_count": 226,
   "metadata": {
    "collapsed": false
   },
   "outputs": [],
   "source": [
    "encoded = df_dance.copy()\n",
    "encoded = encoded.drop(['uri','id'],axis=1)\n",
    "for col in encoded:\n",
    "    encoded[col] = encoded[col].astype(int)\n",
    "\n",
    "y = encoded['danceability']\n",
    "X = encoded.drop('danceability', axis=1)"
   ]
  },
  {
   "cell_type": "code",
   "execution_count": 227,
   "metadata": {
    "collapsed": false
   },
   "outputs": [
    {
     "data": {
      "text/html": [
       "<div>\n",
       "<style scoped>\n",
       "    .dataframe tbody tr th:only-of-type {\n",
       "        vertical-align: middle;\n",
       "    }\n",
       "\n",
       "    .dataframe tbody tr th {\n",
       "        vertical-align: top;\n",
       "    }\n",
       "\n",
       "    .dataframe thead th {\n",
       "        text-align: right;\n",
       "    }\n",
       "</style>\n",
       "<table border=\"1\" class=\"dataframe\">\n",
       "  <thead>\n",
       "    <tr style=\"text-align: right;\">\n",
       "      <th></th>\n",
       "      <th>tempo</th>\n",
       "      <th>liveness</th>\n",
       "      <th>energy</th>\n",
       "      <th>speechiness</th>\n",
       "      <th>acousticness</th>\n",
       "      <th>instrumentalness</th>\n",
       "      <th>danceability</th>\n",
       "      <th>loudness</th>\n",
       "      <th>valence</th>\n",
       "      <th>duration_ms</th>\n",
       "    </tr>\n",
       "  </thead>\n",
       "  <tbody>\n",
       "    <tr>\n",
       "      <th>0</th>\n",
       "      <td>149</td>\n",
       "      <td>9</td>\n",
       "      <td>82</td>\n",
       "      <td>4</td>\n",
       "      <td>0</td>\n",
       "      <td>77</td>\n",
       "      <td>50</td>\n",
       "      <td>-914</td>\n",
       "      <td>57</td>\n",
       "      <td>478683</td>\n",
       "    </tr>\n",
       "    <tr>\n",
       "      <th>1</th>\n",
       "      <td>136</td>\n",
       "      <td>8</td>\n",
       "      <td>83</td>\n",
       "      <td>4</td>\n",
       "      <td>0</td>\n",
       "      <td>89</td>\n",
       "      <td>75</td>\n",
       "      <td>-786</td>\n",
       "      <td>24</td>\n",
       "      <td>310547</td>\n",
       "    </tr>\n",
       "    <tr>\n",
       "      <th>2</th>\n",
       "      <td>134</td>\n",
       "      <td>9</td>\n",
       "      <td>65</td>\n",
       "      <td>7</td>\n",
       "      <td>0</td>\n",
       "      <td>89</td>\n",
       "      <td>78</td>\n",
       "      <td>-1137</td>\n",
       "      <td>16</td>\n",
       "      <td>376640</td>\n",
       "    </tr>\n",
       "    <tr>\n",
       "      <th>3</th>\n",
       "      <td>134</td>\n",
       "      <td>40</td>\n",
       "      <td>90</td>\n",
       "      <td>5</td>\n",
       "      <td>0</td>\n",
       "      <td>79</td>\n",
       "      <td>62</td>\n",
       "      <td>-678</td>\n",
       "      <td>41</td>\n",
       "      <td>537187</td>\n",
       "    </tr>\n",
       "    <tr>\n",
       "      <th>4</th>\n",
       "      <td>134</td>\n",
       "      <td>30</td>\n",
       "      <td>91</td>\n",
       "      <td>5</td>\n",
       "      <td>0</td>\n",
       "      <td>79</td>\n",
       "      <td>62</td>\n",
       "      <td>-679</td>\n",
       "      <td>43</td>\n",
       "      <td>539173</td>\n",
       "    </tr>\n",
       "  </tbody>\n",
       "</table>\n",
       "</div>"
      ],
      "text/plain": [
       "   tempo  liveness  energy  speechiness  acousticness  instrumentalness  \\\n",
       "0    149         9      82            4             0                77   \n",
       "1    136         8      83            4             0                89   \n",
       "2    134         9      65            7             0                89   \n",
       "3    134        40      90            5             0                79   \n",
       "4    134        30      91            5             0                79   \n",
       "\n",
       "   danceability  loudness  valence  duration_ms  \n",
       "0            50      -914       57       478683  \n",
       "1            75      -786       24       310547  \n",
       "2            78     -1137       16       376640  \n",
       "3            62      -678       41       537187  \n",
       "4            62      -679       43       539173  "
      ]
     },
     "execution_count": 227,
     "metadata": {},
     "output_type": "execute_result"
    }
   ],
   "source": [
    "encoded.head()"
   ]
  },
  {
   "cell_type": "code",
   "execution_count": 228,
   "metadata": {
    "collapsed": false
   },
   "outputs": [
    {
     "data": {
      "text/plain": [
       "ExtraTreesClassifier(bootstrap=False, class_weight=None, criterion='gini',\n",
       "           max_depth=None, max_features='auto', max_leaf_nodes=None,\n",
       "           min_impurity_decrease=0.0, min_impurity_split=None,\n",
       "           min_samples_leaf=1, min_samples_split=2,\n",
       "           min_weight_fraction_leaf=0.0, n_estimators=10, n_jobs=2,\n",
       "           oob_score=False, random_state=11, verbose=0, warm_start=False)"
      ]
     },
     "execution_count": 228,
     "metadata": {},
     "output_type": "execute_result"
    }
   ],
   "source": [
    "seed = 11\n",
    "clf = ExtraTreesClassifier(n_jobs=2, random_state=seed)\n",
    "clf.fit(X, y)"
   ]
  },
  {
   "cell_type": "code",
   "execution_count": 231,
   "metadata": {
    "collapsed": false
   },
   "outputs": [
    {
     "data": {
      "text/html": [
       "<div>\n",
       "<style scoped>\n",
       "    .dataframe tbody tr th:only-of-type {\n",
       "        vertical-align: middle;\n",
       "    }\n",
       "\n",
       "    .dataframe tbody tr th {\n",
       "        vertical-align: top;\n",
       "    }\n",
       "\n",
       "    .dataframe thead th {\n",
       "        text-align: right;\n",
       "    }\n",
       "</style>\n",
       "<table border=\"1\" class=\"dataframe\">\n",
       "  <thead>\n",
       "    <tr style=\"text-align: right;\">\n",
       "      <th></th>\n",
       "      <th>feature</th>\n",
       "      <th>importance</th>\n",
       "    </tr>\n",
       "  </thead>\n",
       "  <tbody>\n",
       "    <tr>\n",
       "      <th>8</th>\n",
       "      <td>duration_ms</td>\n",
       "      <td>12</td>\n",
       "    </tr>\n",
       "    <tr>\n",
       "      <th>7</th>\n",
       "      <td>valence</td>\n",
       "      <td>12</td>\n",
       "    </tr>\n",
       "    <tr>\n",
       "      <th>6</th>\n",
       "      <td>loudness</td>\n",
       "      <td>12</td>\n",
       "    </tr>\n",
       "    <tr>\n",
       "      <th>2</th>\n",
       "      <td>energy</td>\n",
       "      <td>11</td>\n",
       "    </tr>\n",
       "    <tr>\n",
       "      <th>0</th>\n",
       "      <td>tempo</td>\n",
       "      <td>11</td>\n",
       "    </tr>\n",
       "    <tr>\n",
       "      <th>1</th>\n",
       "      <td>liveness</td>\n",
       "      <td>11</td>\n",
       "    </tr>\n",
       "    <tr>\n",
       "      <th>5</th>\n",
       "      <td>instrumentalness</td>\n",
       "      <td>11</td>\n",
       "    </tr>\n",
       "    <tr>\n",
       "      <th>3</th>\n",
       "      <td>speechiness</td>\n",
       "      <td>10</td>\n",
       "    </tr>\n",
       "    <tr>\n",
       "      <th>4</th>\n",
       "      <td>acousticness</td>\n",
       "      <td>5</td>\n",
       "    </tr>\n",
       "  </tbody>\n",
       "</table>\n",
       "</div>"
      ],
      "text/plain": [
       "            feature  importance\n",
       "8       duration_ms          12\n",
       "7           valence          12\n",
       "6          loudness          12\n",
       "2            energy          11\n",
       "0             tempo          11\n",
       "1          liveness          11\n",
       "5  instrumentalness          11\n",
       "3       speechiness          10\n",
       "4      acousticness           5"
      ]
     },
     "execution_count": 231,
     "metadata": {},
     "output_type": "execute_result"
    }
   ],
   "source": [
    "features = list(zip(X.columns, np.transpose(clf.feature_importances_ * 100)))\n",
    "features = pd.DataFrame(features, columns=['feature','importance']).sort_values('importance', ascending=False)\n",
    "features['importance'] = features['importance'].astype(int)\n",
    "features.head(10)"
   ]
  },
  {
   "cell_type": "code",
   "execution_count": 242,
   "metadata": {
    "collapsed": false
   },
   "outputs": [],
   "source": [
    "#test_scenario = pd.DataFrame({'track_id': df_dance.index.tolist()})\n",
    "test_scenario = df_dance.copy()\n",
    "test_scenario = df_dance.drop(['danceability','uri','id'], axis = 1)"
   ]
  },
  {
   "cell_type": "code",
   "execution_count": 244,
   "metadata": {
    "collapsed": false
   },
   "outputs": [],
   "source": [
    "test_scenario['dance_predicion'] = clf.predict(test_scenario)"
   ]
  },
  {
   "cell_type": "code",
   "execution_count": 245,
   "metadata": {
    "collapsed": false
   },
   "outputs": [
    {
     "data": {
      "text/html": [
       "<div>\n",
       "<style scoped>\n",
       "    .dataframe tbody tr th:only-of-type {\n",
       "        vertical-align: middle;\n",
       "    }\n",
       "\n",
       "    .dataframe tbody tr th {\n",
       "        vertical-align: top;\n",
       "    }\n",
       "\n",
       "    .dataframe thead th {\n",
       "        text-align: right;\n",
       "    }\n",
       "</style>\n",
       "<table border=\"1\" class=\"dataframe\">\n",
       "  <thead>\n",
       "    <tr style=\"text-align: right;\">\n",
       "      <th></th>\n",
       "      <th>tempo</th>\n",
       "      <th>liveness</th>\n",
       "      <th>energy</th>\n",
       "      <th>speechiness</th>\n",
       "      <th>acousticness</th>\n",
       "      <th>instrumentalness</th>\n",
       "      <th>loudness</th>\n",
       "      <th>valence</th>\n",
       "      <th>duration_ms</th>\n",
       "      <th>dance_predicion</th>\n",
       "    </tr>\n",
       "  </thead>\n",
       "  <tbody>\n",
       "    <tr>\n",
       "      <th>0</th>\n",
       "      <td>149.977</td>\n",
       "      <td>9.930</td>\n",
       "      <td>82.300</td>\n",
       "      <td>4.010</td>\n",
       "      <td>0.299</td>\n",
       "      <td>77.400</td>\n",
       "      <td>-914.700</td>\n",
       "      <td>57.500</td>\n",
       "      <td>478683</td>\n",
       "      <td>50</td>\n",
       "    </tr>\n",
       "    <tr>\n",
       "      <th>1</th>\n",
       "      <td>136.016</td>\n",
       "      <td>8.940</td>\n",
       "      <td>83.500</td>\n",
       "      <td>4.630</td>\n",
       "      <td>0.053</td>\n",
       "      <td>89.400</td>\n",
       "      <td>-786.700</td>\n",
       "      <td>24.100</td>\n",
       "      <td>310547</td>\n",
       "      <td>75</td>\n",
       "    </tr>\n",
       "    <tr>\n",
       "      <th>2</th>\n",
       "      <td>134.018</td>\n",
       "      <td>9.760</td>\n",
       "      <td>65.700</td>\n",
       "      <td>7.810</td>\n",
       "      <td>0.088</td>\n",
       "      <td>89.800</td>\n",
       "      <td>-1137.000</td>\n",
       "      <td>16.800</td>\n",
       "      <td>376640</td>\n",
       "      <td>78</td>\n",
       "    </tr>\n",
       "    <tr>\n",
       "      <th>3</th>\n",
       "      <td>134.011</td>\n",
       "      <td>40.100</td>\n",
       "      <td>90.800</td>\n",
       "      <td>5.190</td>\n",
       "      <td>0.855</td>\n",
       "      <td>79.400</td>\n",
       "      <td>-678.700</td>\n",
       "      <td>41.100</td>\n",
       "      <td>537187</td>\n",
       "      <td>62</td>\n",
       "    </tr>\n",
       "    <tr>\n",
       "      <th>4</th>\n",
       "      <td>134.007</td>\n",
       "      <td>30.300</td>\n",
       "      <td>91.200</td>\n",
       "      <td>5.130</td>\n",
       "      <td>0.872</td>\n",
       "      <td>79.800</td>\n",
       "      <td>-679.400</td>\n",
       "      <td>43.400</td>\n",
       "      <td>539173</td>\n",
       "      <td>62</td>\n",
       "    </tr>\n",
       "  </tbody>\n",
       "</table>\n",
       "</div>"
      ],
      "text/plain": [
       "    tempo  liveness  energy  speechiness  acousticness  instrumentalness  \\\n",
       "0 149.977     9.930  82.300        4.010         0.299            77.400   \n",
       "1 136.016     8.940  83.500        4.630         0.053            89.400   \n",
       "2 134.018     9.760  65.700        7.810         0.088            89.800   \n",
       "3 134.011    40.100  90.800        5.190         0.855            79.400   \n",
       "4 134.007    30.300  91.200        5.130         0.872            79.800   \n",
       "\n",
       "   loudness  valence  duration_ms  dance_predicion  \n",
       "0  -914.700   57.500       478683               50  \n",
       "1  -786.700   24.100       310547               75  \n",
       "2 -1137.000   16.800       376640               78  \n",
       "3  -678.700   41.100       537187               62  \n",
       "4  -679.400   43.400       539173               62  "
      ]
     },
     "execution_count": 245,
     "metadata": {},
     "output_type": "execute_result"
    }
   ],
   "source": [
    "test_scenario.head()"
   ]
  },
  {
   "cell_type": "code",
   "execution_count": null,
   "metadata": {
    "collapsed": true
   },
   "outputs": [],
   "source": []
  }
 ],
 "metadata": {
  "anaconda-cloud": {},
  "kernelspec": {
   "display_name": "Python [default]",
   "language": "python",
   "name": "python3"
  },
  "language_info": {
   "codemirror_mode": {
    "name": "ipython",
    "version": 3
   },
   "file_extension": ".py",
   "mimetype": "text/x-python",
   "name": "python",
   "nbconvert_exporter": "python",
   "pygments_lexer": "ipython3",
   "version": "3.5.2"
  }
 },
 "nbformat": 4,
 "nbformat_minor": 1
}
