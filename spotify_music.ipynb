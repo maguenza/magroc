{
 "cells": [
  {
   "cell_type": "code",
   "execution_count": 94,
   "metadata": {
    "collapsed": false
   },
   "outputs": [
    {
     "data": {
      "text/html": [
       "<script>requirejs.config({paths: { 'plotly': ['https://cdn.plot.ly/plotly-latest.min']},});if(!window.Plotly) {{require(['plotly'],function(plotly) {window.Plotly=plotly;});}}</script>"
      ],
      "text/plain": [
       "<IPython.core.display.HTML object>"
      ]
     },
     "metadata": {},
     "output_type": "display_data"
    }
   ],
   "source": [
    "import pandas as pd\n",
    "import numpy as np\n",
    "import time, datetime\n",
    "\n",
    "#import matplotlib\n",
    "pd.set_option('display.float_format', lambda x: '%.3f' % x)\n",
    "import matplotlib.pyplot as plt\n",
    "%matplotlib inline\n",
    "\n",
    "#import seaborn\n",
    "import seaborn as sns\n",
    "\n",
    "#local plotly\n",
    "from plotly.offline import download_plotlyjs, init_notebook_mode, plot, iplot\n",
    "init_notebook_mode(connected=True)\n",
    "import plotly.graph_objs as go"
   ]
  },
  {
   "cell_type": "markdown",
   "metadata": {},
   "source": [
    "## Upload CSV of SG Lewis Playlist\n",
    "\n",
    "- update `release` to date_time\n",
    "- convert `length` to Minutes:Seconds\n",
    "- after converting `length`, calculate how long each song is by seconds"
   ]
  },
  {
   "cell_type": "code",
   "execution_count": 87,
   "metadata": {
    "collapsed": false
   },
   "outputs": [],
   "source": [
    "df = pd.read_csv(\"sg_lewis_playlist.csv\", encoding = 'cp1252') #encoding cp1252 needed"
   ]
  },
  {
   "cell_type": "code",
   "execution_count": 89,
   "metadata": {
    "collapsed": true
   },
   "outputs": [],
   "source": [
    "#change release to date format\n",
    "df['release'] = pd.to_datetime(df['release'])\n",
    "\n",
    "#convert length to time\n",
    "df['length'] = df['length'].apply(lambda x: time.strptime(x,'%M:%S'))"
   ]
  },
  {
   "cell_type": "code",
   "execution_count": 90,
   "metadata": {
    "collapsed": false
   },
   "outputs": [],
   "source": [
    "#find how many seconds each song is\n",
    "\n",
    "df['length'] = df['length'].apply(lambda x: datetime.timedelta(minutes=x.tm_min, seconds=x.tm_sec).seconds)"
   ]
  },
  {
   "cell_type": "code",
   "execution_count": 91,
   "metadata": {
    "collapsed": false
   },
   "outputs": [
    {
     "data": {
      "text/html": [
       "<div>\n",
       "<table border=\"1\" class=\"dataframe\">\n",
       "  <thead>\n",
       "    <tr style=\"text-align: right;\">\n",
       "      <th></th>\n",
       "      <th>order</th>\n",
       "      <th>title</th>\n",
       "      <th>artist</th>\n",
       "      <th>release</th>\n",
       "      <th>bpm</th>\n",
       "      <th>energy</th>\n",
       "      <th>dance</th>\n",
       "      <th>loud</th>\n",
       "      <th>valence</th>\n",
       "      <th>length</th>\n",
       "      <th>acoustic</th>\n",
       "      <th>pop</th>\n",
       "    </tr>\n",
       "  </thead>\n",
       "  <tbody>\n",
       "    <tr>\n",
       "      <th>0</th>\n",
       "      <td>1</td>\n",
       "      <td>New Chain</td>\n",
       "      <td>Col3trane</td>\n",
       "      <td>2017-05-19</td>\n",
       "      <td>139</td>\n",
       "      <td>45</td>\n",
       "      <td>57</td>\n",
       "      <td>-6</td>\n",
       "      <td>35</td>\n",
       "      <td>221</td>\n",
       "      <td>17</td>\n",
       "      <td>27</td>\n",
       "    </tr>\n",
       "    <tr>\n",
       "      <th>1</th>\n",
       "      <td>2</td>\n",
       "      <td>Biking</td>\n",
       "      <td>Frank Ocean</td>\n",
       "      <td>2017-04-10</td>\n",
       "      <td>148</td>\n",
       "      <td>46</td>\n",
       "      <td>67</td>\n",
       "      <td>-7</td>\n",
       "      <td>27</td>\n",
       "      <td>278</td>\n",
       "      <td>68</td>\n",
       "      <td>78</td>\n",
       "    </tr>\n",
       "    <tr>\n",
       "      <th>2</th>\n",
       "      <td>3</td>\n",
       "      <td>Want You In My Soul - Club Mix</td>\n",
       "      <td>Lovebirds</td>\n",
       "      <td>2015-03-27</td>\n",
       "      <td>121</td>\n",
       "      <td>68</td>\n",
       "      <td>75</td>\n",
       "      <td>-6</td>\n",
       "      <td>43</td>\n",
       "      <td>498</td>\n",
       "      <td>6</td>\n",
       "      <td>49</td>\n",
       "    </tr>\n",
       "    <tr>\n",
       "      <th>3</th>\n",
       "      <td>4</td>\n",
       "      <td>Wait For It</td>\n",
       "      <td>H.E.R.</td>\n",
       "      <td>2016-09-09</td>\n",
       "      <td>158</td>\n",
       "      <td>34</td>\n",
       "      <td>67</td>\n",
       "      <td>-15</td>\n",
       "      <td>30</td>\n",
       "      <td>136</td>\n",
       "      <td>19</td>\n",
       "      <td>55</td>\n",
       "    </tr>\n",
       "    <tr>\n",
       "      <th>4</th>\n",
       "      <td>5</td>\n",
       "      <td>The Truth</td>\n",
       "      <td>Moonchild</td>\n",
       "      <td>2015-11-20</td>\n",
       "      <td>76</td>\n",
       "      <td>42</td>\n",
       "      <td>79</td>\n",
       "      <td>-11</td>\n",
       "      <td>25</td>\n",
       "      <td>219</td>\n",
       "      <td>65</td>\n",
       "      <td>38</td>\n",
       "    </tr>\n",
       "  </tbody>\n",
       "</table>\n",
       "</div>"
      ],
      "text/plain": [
       "   order                           title       artist    release  bpm  energy  \\\n",
       "0      1                       New Chain    Col3trane 2017-05-19  139      45   \n",
       "1      2                          Biking  Frank Ocean 2017-04-10  148      46   \n",
       "2      3  Want You In My Soul - Club Mix    Lovebirds 2015-03-27  121      68   \n",
       "3      4                     Wait For It       H.E.R. 2016-09-09  158      34   \n",
       "4      5                       The Truth    Moonchild 2015-11-20   76      42   \n",
       "\n",
       "   dance  loud  valence  length  acoustic  pop  \n",
       "0     57    -6       35     221        17   27  \n",
       "1     67    -7       27     278        68   78  \n",
       "2     75    -6       43     498         6   49  \n",
       "3     67   -15       30     136        19   55  \n",
       "4     79   -11       25     219        65   38  "
      ]
     },
     "execution_count": 91,
     "metadata": {},
     "output_type": "execute_result"
    }
   ],
   "source": [
    "df.head()"
   ]
  },
  {
   "cell_type": "markdown",
   "metadata": {},
   "source": [
    "## Line Graph for `length` of each song by `order`\n",
    "\n",
    "- test between **matplotlib** vs **plotly**"
   ]
  },
  {
   "cell_type": "code",
   "execution_count": 92,
   "metadata": {
    "collapsed": false
   },
   "outputs": [
    {
     "data": {
      "text/plain": [
       "<matplotlib.axes._subplots.AxesSubplot at 0x118551ef0>"
      ]
     },
     "execution_count": 92,
     "metadata": {},
     "output_type": "execute_result"
    },
    {
     "data": {
      "image/png": "[encoded data removed]",
      "text/plain": [
       "<matplotlib.figure.Figure at 0x11855e1d0>"
      ]
     },
     "metadata": {},
     "output_type": "display_data"
    }
   ],
   "source": [
    "df_line = df[['order','length']]\n",
    "df_line = df_line.set_index('order')\n",
    "df_line.plot(title=\"SG's Playlist Order by Length\",legend=None)\n",
    "\n",
    "#for saving it later\n",
    "#fig = purchase_plot.get_figure()\n",
    "#fig.savefig(\"total-sales.png\")"
   ]
  },
  {
   "cell_type": "code",
   "execution_count": 95,
   "metadata": {
    "collapsed": false
   },
   "outputs": [
    {
     "data": {
      "text/html": [
       "<div id=\"1aba6dc7-0cfd-4b16-a5e7-9deef1ca109a\" style=\"height: 525px; width: 100%;\" class=\"plotly-graph-div\"></div><script type=\"text/javascript\">require([\"plotly\"], function(Plotly) { window.PLOTLYENV=window.PLOTLYENV || {};window.PLOTLYENV.BASE_URL=\"https://plot.ly\";Plotly.newPlot(\"1aba6dc7-0cfd-4b16-a5e7-9deef1ca109a\", [{\"type\": \"scatter\", \"y\": [221, 278, 498, 136, 219, 173, 327, 220, 215, 327, 192, 217, 218, 97, 218, 382, 225, 329, 132, 250, 208, 247, 178, 305, 188, 195, 262, 235, 257, 231, 220, 312, 312, 258, 186, 263, 302, 298, 225, 374, 299, 226, 137, 278, 221, 230, 245, 226, 263, 251, 714, 201, 236, 174, 193, 268, 285, 146, 154, 209, 322, 315, 286, 255, 244, 187, 262, 268, 236, 250, 343, 308, 198, 317, 215, 411, 447, 433, 343, 180, 229, 299, 117, 297, 175], \"x\": [1, 2, 3, 4, 5, 6, 7, 8, 9, 10, 11, 12, 13, 14, 15, 16, 17, 18, 19, 20, 21, 22, 23, 24, 25, 26, 27, 28, 29, 30, 31, 32, 33, 34, 35, 36, 37, 38, 39, 40, 41, 42, 43, 44, 45, 46, 47, 48, 49, 50, 51, 52, 53, 54, 55, 56, 57, 58, 59, 60, 61, 62, 63, 64, 65, 66, 67, 68, 69, 70, 71, 72, 73, 74, 75, 76, 77, 78, 79, 80, 81, 82, 83, 84, 85]}], {}, {\"linkText\": \"Export to plot.ly\", \"showLink\": true})});</script>"
      ],
      "text/plain": [
       "<IPython.core.display.HTML object>"
      ]
     },
     "metadata": {},
     "output_type": "display_data"
    }
   ],
   "source": [
    "#plotly\n",
    "# Create a trace\n",
    "trace = go.Scatter(\n",
    "    x = df['order'],\n",
    "    y = df['length']\n",
    ")\n",
    "\n",
    "data = [trace]\n",
    "\n",
    "iplot(data, filename='basic-line')"
   ]
  },
  {
   "cell_type": "markdown",
   "metadata": {},
   "source": [
    "## Does `Energy` and `Dance` correlate in the playlist?"
   ]
  },
  {
   "cell_type": "code",
   "execution_count": 108,
   "metadata": {
    "collapsed": false
   },
   "outputs": [
    {
     "data": {
      "text/html": [
       "<div id=\"fb5e5a3f-0c51-47c7-98ca-945e205b57f1\" style=\"height: 525px; width: 100%;\" class=\"plotly-graph-div\"></div><script type=\"text/javascript\">require([\"plotly\"], function(Plotly) { window.PLOTLYENV=window.PLOTLYENV || {};window.PLOTLYENV.BASE_URL=\"https://plot.ly\";Plotly.newPlot(\"fb5e5a3f-0c51-47c7-98ca-945e205b57f1\", [{\"type\": \"scatter\", \"y\": [45, 46, 68, 34, 42, 61, 56, 44, 43, 37, 41, 81, 44, 84, 42, 20, 42, 66, 16, 21, 25, 61, 52, 67, 48, 54, 55, 57, 30, 25, 85, 55, 43, 79, 41, 53, 49, 62, 75, 58, 14, 58, 13, 82, 65, 65, 73, 53, 49, 37, 45, 58, 45, 68, 61, 43, 35, 17, 23, 31, 51, 29, 42, 83, 28, 58, 73, 35, 53, 39, 85, 49, 32, 62, 49, 22, 52, 75, 24, 35, 35, 15, 27, 19, 37], \"mode\": \"lines\", \"name\": \"Energy\", \"x\": [1, 2, 3, 4, 5, 6, 7, 8, 9, 10, 11, 12, 13, 14, 15, 16, 17, 18, 19, 20, 21, 22, 23, 24, 25, 26, 27, 28, 29, 30, 31, 32, 33, 34, 35, 36, 37, 38, 39, 40, 41, 42, 43, 44, 45, 46, 47, 48, 49, 50, 51, 52, 53, 54, 55, 56, 57, 58, 59, 60, 61, 62, 63, 64, 65, 66, 67, 68, 69, 70, 71, 72, 73, 74, 75, 76, 77, 78, 79, 80, 81, 82, 83, 84, 85]}, {\"type\": \"scatter\", \"y\": [57, 67, 75, 67, 79, 78, 56, 47, 75, 74, 71, 58, 80, 65, 68, 91, 79, 64, 46, 55, 43, 69, 73, 84, 46, 88, 65, 64, 38, 65, 56, 69, 79, 77, 69, 37, 31, 68, 26, 53, 81, 75, 79, 76, 50, 59, 53, 87, 72, 75, 67, 55, 43, 67, 72, 74, 19, 42, 38, 54, 84, 51, 46, 33, 56, 79, 94, 61, 85, 62, 58, 52, 50, 61, 60, 29, 81, 52, 36, 60, 43, 32, 53, 17, 29], \"mode\": \"lines\", \"name\": \"Dance\", \"x\": [1, 2, 3, 4, 5, 6, 7, 8, 9, 10, 11, 12, 13, 14, 15, 16, 17, 18, 19, 20, 21, 22, 23, 24, 25, 26, 27, 28, 29, 30, 31, 32, 33, 34, 35, 36, 37, 38, 39, 40, 41, 42, 43, 44, 45, 46, 47, 48, 49, 50, 51, 52, 53, 54, 55, 56, 57, 58, 59, 60, 61, 62, 63, 64, 65, 66, 67, 68, 69, 70, 71, 72, 73, 74, 75, 76, 77, 78, 79, 80, 81, 82, 83, 84, 85]}], {\"title\": \"Relationship of Energy and Dance\", \"yaxis\": {\"title\": \"Energy/Dance\"}, \"xaxis\": {\"title\": \"Playlist Order\"}}, {\"linkText\": \"Export to plot.ly\", \"showLink\": true})});</script>"
      ],
      "text/plain": [
       "<IPython.core.display.HTML object>"
      ]
     },
     "metadata": {},
     "output_type": "display_data"
    }
   ],
   "source": [
    "trace1 = go.Scatter(\n",
    "    x = df['order'],\n",
    "    y = df['energy'],\n",
    "    mode = 'lines',\n",
    "    name = 'Energy'\n",
    ")\n",
    "trace2 = go.Scatter(\n",
    "    x = df['order'],\n",
    "    y = df['dance'],\n",
    "    mode = 'lines',\n",
    "    name = 'Dance'\n",
    ")\n",
    "data = [trace1, trace2]\n",
    "\n",
    "\n",
    "# Edit the layout\n",
    "layout = dict(title = 'Relationship of Energy and Dance',\n",
    "              xaxis = dict(title = 'Playlist Order'),\n",
    "              yaxis = dict(title = 'Energy/Dance'),\n",
    "              )\n",
    "\n",
    "fig = dict(data=data, layout=layout)\n",
    "iplot(fig, filename='playlist_dancing')"
   ]
  },
  {
   "cell_type": "code",
   "execution_count": null,
   "metadata": {
    "collapsed": true
   },
   "outputs": [],
   "source": []
  }
 ],
 "metadata": {
  "anaconda-cloud": {},
  "kernelspec": {
   "display_name": "Python [default]",
   "language": "python",
   "name": "python3"
  },
  "language_info": {
   "codemirror_mode": {
    "name": "ipython",
    "version": 3
   },
   "file_extension": ".py",
   "mimetype": "text/x-python",
   "name": "python",
   "nbconvert_exporter": "python",
   "pygments_lexer": "ipython3",
   "version": "3.5.2"
  }
 },
 "nbformat": 4,
 "nbformat_minor": 1
}
